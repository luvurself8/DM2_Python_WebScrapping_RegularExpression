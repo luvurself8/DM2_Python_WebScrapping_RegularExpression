{
 "cells": [
  {
   "cell_type": "markdown",
   "id": "6fb2b130",
   "metadata": {},
   "source": [
    "# 정규식 사용 vs 비사용"
   ]
  },
  {
   "cell_type": "code",
   "execution_count": 7,
   "id": "5a2344f2",
   "metadata": {},
   "outputs": [
    {
     "name": "stdout",
     "output_type": "stream",
     "text": [
      "['park 800904-*******', 'kim 841204-*******']\n",
      "park 800904-*******\n",
      "kim 841204-*******\n"
     ]
    }
   ],
   "source": [
    "data = '''\n",
    "park 800904-1234567\n",
    "kim 841204-1015334\n",
    "'''\n",
    "result = []\n",
    "for line in data.split('\\n'):\n",
    "    word_result = []\n",
    "    for word in line.split():\n",
    "        if len(word) == 14 and word[:6].isdigit() and word[7:].isdigit():\n",
    "            word = word[:6] + '-'+'*******'\n",
    "        word_result.append(word)\n",
    "    result.append(' '.join(word_result))\n",
    "print(result)    \n",
    "print('\\n'.join(result))\n",
    "            "
   ]
  },
  {
   "cell_type": "code",
   "execution_count": 3,
   "id": "0eb92a71",
   "metadata": {},
   "outputs": [
    {
     "name": "stdout",
     "output_type": "stream",
     "text": [
      "\n",
      "park 800904-*******\n",
      "kim 841204-*******\n",
      "\n"
     ]
    }
   ],
   "source": [
    "import re\n",
    "\n",
    "data = '''\n",
    "park 800904-1234567\n",
    "kim 841204-1015334\n",
    "'''\n",
    "\n",
    "pat = re.compile('(\\d{6})[-]\\d{7}')\n",
    "print(pat.sub('\\g<1>-*******',data))  #substitute"
   ]
  },
  {
   "cell_type": "code",
   "execution_count": 3,
   "id": "19efd472",
   "metadata": {},
   "outputs": [
    {
     "name": "stdout",
     "output_type": "stream",
     "text": [
      "<re.Match object; span=(0, 4), match='ab c'>\n"
     ]
    }
   ],
   "source": [
    "import re\n",
    "p = re.compile('ab\\sc') \n",
    "print(p.match('ab cd'))\n"
   ]
  },
  {
   "cell_type": "markdown",
   "id": "7a45dd78",
   "metadata": {},
   "source": [
    "# 문자열 검색"
   ]
  },
  {
   "cell_type": "code",
   "execution_count": 17,
   "id": "cfec6ded",
   "metadata": {},
   "outputs": [],
   "source": [
    "import re\n",
    "\n",
    "p = re.compile('[a-z]+') # 찾고자 하는 문자열이 소문자 알파벳으로 되어있는지\n",
    "# + = 최소 한번 이상 반복"
   ]
  },
  {
   "cell_type": "markdown",
   "id": "ee8a44b9",
   "metadata": {},
   "source": [
    "## match( )\n",
    "- 문자열의 처음부터 정규식과 매치되는지를 조사"
   ]
  },
  {
   "cell_type": "code",
   "execution_count": 23,
   "id": "479dfc6b",
   "metadata": {},
   "outputs": [
    {
     "name": "stdout",
     "output_type": "stream",
     "text": [
      "python\n",
      "None\n",
      "None\n",
      "<re.Match object; span=(0, 1), match='p'>\n"
     ]
    }
   ],
   "source": [
    "m1 = p.match('python')\n",
    "print(m1.group())\n",
    "#group 함수는 일치되는 문자열을 반환\n",
    "\n",
    "m2 = p.match('Python')\n",
    "print(m2)\n",
    "#P가 대문자이기 때문에 매치가 안됨\n",
    "\n",
    "m3 = p.match('3 python')\n",
    "print(m3)\n",
    "\n",
    "m4 = p.match('pYthon')\n",
    "print(m4)"
   ]
  },
  {
   "cell_type": "markdown",
   "id": "4da10153",
   "metadata": {},
   "source": [
    "## search( )\n",
    "- 문자열의 처음부터 검색하는 것이 아니라 문자열 전체를 검색한다\n"
   ]
  },
  {
   "cell_type": "code",
   "execution_count": 24,
   "id": "1b333085",
   "metadata": {
    "scrolled": true
   },
   "outputs": [
    {
     "name": "stdout",
     "output_type": "stream",
     "text": [
      "<re.Match object; span=(2, 8), match='python'>\n"
     ]
    }
   ],
   "source": [
    "m = p.search('3 python')\n",
    "print(m)"
   ]
  },
  {
   "cell_type": "markdown",
   "id": "9f9f764f",
   "metadata": {},
   "source": [
    "## [문제] 전화번호 추출하기\n",
    "다음의 전화번호 데이터에서 전화번호만 추출하는 정규 표현식을 작성하시오"
   ]
  },
  {
   "cell_type": "code",
   "execution_count": 34,
   "id": "b0bdcbdc",
   "metadata": {},
   "outputs": [
    {
     "name": "stdout",
     "output_type": "stream",
     "text": [
      "010-1234-5678\n",
      "02-555-3333\n"
     ]
    }
   ],
   "source": [
    "phone = ['홍길동:010-1234-5678', '우리집: 02-555-3333']\n",
    "pat = re.compile('\\d+-\\d+-\\d+')\n",
    "for i in phone:\n",
    "    print(pat.search(i).group())"
   ]
  },
  {
   "cell_type": "code",
   "execution_count": 32,
   "id": "c2dd1c0d",
   "metadata": {},
   "outputs": [
    {
     "name": "stdout",
     "output_type": "stream",
     "text": [
      "010-1234-5678\n",
      "02-555-3333\n"
     ]
    }
   ],
   "source": [
    "phone = ['홍길동:010-1234-5678', '우리집, 02-555-3333']\n",
    "for i in phone:\n",
    "    m = re.search('\\d{2,3}-\\d{3,4}-\\d{4}', i)\n",
    "    print(m.group())"
   ]
  },
  {
   "cell_type": "markdown",
   "id": "2c912a02",
   "metadata": {},
   "source": [
    "## findall()"
   ]
  },
  {
   "cell_type": "code",
   "execution_count": 1,
   "id": "4156d01a",
   "metadata": {
    "scrolled": false
   },
   "outputs": [
    {
     "name": "stdout",
     "output_type": "stream",
     "text": [
      "['life', 'is', 'to', 'short']\n"
     ]
    }
   ],
   "source": [
    "import re\n",
    "\n",
    "p = re.compile('[a-z]+')\n",
    "result = p.findall('life is to short')\n",
    "print(result)"
   ]
  },
  {
   "cell_type": "markdown",
   "id": "d97f8616",
   "metadata": {},
   "source": [
    "# 컴파일 옵션"
   ]
  },
  {
   "cell_type": "markdown",
   "id": "836ffff0",
   "metadata": {},
   "source": [
    "## DOTALL"
   ]
  },
  {
   "cell_type": "code",
   "execution_count": 37,
   "id": "4f7995be",
   "metadata": {},
   "outputs": [
    {
     "name": "stdout",
     "output_type": "stream",
     "text": [
      "None\n"
     ]
    }
   ],
   "source": [
    "import re\n",
    "\n",
    "m = re.match('a.b','a\\nb')\n",
    "# . == a와 b사이에 \\n 을 제외한 아무 문자나 와도 됨\n",
    "print(m)"
   ]
  },
  {
   "cell_type": "code",
   "execution_count": 4,
   "id": "a0ed4eba",
   "metadata": {},
   "outputs": [
    {
     "name": "stdout",
     "output_type": "stream",
     "text": [
      "a\n",
      "b\n",
      "<re.Match object; span=(0, 3), match='a\\nb'>\n"
     ]
    }
   ],
   "source": [
    "import re\n",
    "p = re.compile('a.b', re.DOTALL)\n",
    "m = p.match('a\\nb')\n",
    "print(m.group())\n",
    "# . == a와 b사이에 \\n 을 제외한 아무 문자나 와도 됨\n",
    "print(m)"
   ]
  },
  {
   "cell_type": "code",
   "execution_count": 44,
   "id": "6a1b82f2",
   "metadata": {},
   "outputs": [
    {
     "name": "stdout",
     "output_type": "stream",
     "text": [
      "<re.Match object; span=(0, 12), match='hello\\npython'>\n"
     ]
    }
   ],
   "source": [
    "s = '''hello\n",
    "python'''\n",
    "\n",
    "p = re.compile('hello.python', re.DOTALL)\n",
    "m = p.match(s)\n",
    "print(m)"
   ]
  },
  {
   "cell_type": "markdown",
   "id": "647d9616",
   "metadata": {},
   "source": [
    "## IGNORECASE\n",
    "-대소문자 구분 없이 찾아내는 것"
   ]
  },
  {
   "cell_type": "code",
   "execution_count": 45,
   "id": "85bcdd0f",
   "metadata": {},
   "outputs": [
    {
     "name": "stdout",
     "output_type": "stream",
     "text": [
      "<re.Match object; span=(0, 6), match='Python'>\n"
     ]
    }
   ],
   "source": [
    "p = re.compile('[a-z]+', re.IGNORECASE)\n",
    "m = p.match('Python')\n",
    "print(m)"
   ]
  },
  {
   "cell_type": "markdown",
   "id": "7bef0d18",
   "metadata": {},
   "source": [
    "## MULTILINE\n",
    "- MULTILINE은 ^, $ 메타 문자를 문자열 각 줄마다 적용한다"
   ]
  },
  {
   "cell_type": "code",
   "execution_count": 46,
   "id": "4cbc36b7",
   "metadata": {},
   "outputs": [
    {
     "name": "stdout",
     "output_type": "stream",
     "text": [
      "['python one']\n"
     ]
    }
   ],
   "source": [
    "text= '''python one\n",
    "life is to short\n",
    "python two\n",
    "you need python\n",
    "python three'''\n",
    "p = re.compile('^python\\s\\w+')\n",
    "# python으로 시작 \\s 공백 \\w 숫자나 문자가  + 하나이상 반복\n",
    "m = p.findall(text)\n",
    "print(m)"
   ]
  },
  {
   "cell_type": "code",
   "execution_count": 47,
   "id": "10dcfe8c",
   "metadata": {},
   "outputs": [
    {
     "name": "stdout",
     "output_type": "stream",
     "text": [
      "['python one', 'python two', 'python three']\n"
     ]
    }
   ],
   "source": [
    "text= '''python one\n",
    "life is to short\n",
    "python two\n",
    "you need python\n",
    "python three'''\n",
    "p = re.compile('^python\\s\\w+', re.MULTILINE)\n",
    "# python으로 시작 \\s 공백 \\w 숫자나 문자가  + 하나이상 반복\n",
    "m = p.findall(text)\n",
    "print(m)"
   ]
  },
  {
   "cell_type": "markdown",
   "id": "b8e00c3c",
   "metadata": {},
   "source": [
    "# 백슬레시 문제"
   ]
  },
  {
   "cell_type": "code",
   "execution_count": 50,
   "id": "8911dde9",
   "metadata": {},
   "outputs": [
    {
     "name": "stdout",
     "output_type": "stream",
     "text": [
      "None\n"
     ]
    }
   ],
   "source": [
    "import re\n",
    "\n",
    "p = re.compile('\\\\section')\n",
    "m = p.search('What is \\section and example?')\n",
    "print(m)"
   ]
  },
  {
   "cell_type": "code",
   "execution_count": 6,
   "id": "2283e3ec",
   "metadata": {
    "scrolled": true
   },
   "outputs": [
    {
     "name": "stdout",
     "output_type": "stream",
     "text": [
      "\\section\n"
     ]
    }
   ],
   "source": [
    "p = re.compile(r'\\\\section')\n",
    "m = p.search('What is \\section and example?')\n",
    "print(m.group())"
   ]
  },
  {
   "cell_type": "code",
   "execution_count": 51,
   "id": "da0be085",
   "metadata": {},
   "outputs": [
    {
     "name": "stdout",
     "output_type": "stream",
     "text": [
      "<re.Match object; span=(8, 16), match='\\\\section'>\n"
     ]
    }
   ],
   "source": [
    "p = re.compile('\\\\\\\\section')\n",
    "m = p.search('What is \\section and example?')\n",
    "print(m)"
   ]
  },
  {
   "cell_type": "markdown",
   "id": "454860b1",
   "metadata": {},
   "source": [
    "# 메타문자"
   ]
  },
  {
   "cell_type": "markdown",
   "id": "b178aa72",
   "metadata": {},
   "source": [
    "## |\n",
    "- or 의 의미"
   ]
  },
  {
   "cell_type": "code",
   "execution_count": 8,
   "id": "78953f74",
   "metadata": {},
   "outputs": [
    {
     "name": "stdout",
     "output_type": "stream",
     "text": [
      "Crow\n"
     ]
    }
   ],
   "source": [
    "p = re.compile('Crow|Servo')\n",
    "m = p.match('CrowServo')\n",
    "print(m.group())"
   ]
  },
  {
   "cell_type": "markdown",
   "id": "4b76d54a",
   "metadata": {},
   "source": [
    "## \\b\n",
    "- 단어의 앞뒤가 공백으로 구분된 단어와 일치\n",
    "- Raw String 문자 (r) 을 붙여줘야 함"
   ]
  },
  {
   "cell_type": "code",
   "execution_count": 3,
   "id": "0b698f48",
   "metadata": {},
   "outputs": [
    {
     "name": "stdout",
     "output_type": "stream",
     "text": [
      "<re.Match object; span=(3, 8), match='class'>\n",
      "None\n",
      "None\n"
     ]
    }
   ],
   "source": [
    "import re\n",
    "p = re.compile (r'\\bclass\\b')\n",
    "print(p.search('no class at all'))\n",
    "print(p.search('the declassified algorithm'))\n",
    "print(p.search('one subclass is'))\n"
   ]
  },
  {
   "cell_type": "markdown",
   "id": "2f9547da",
   "metadata": {},
   "source": [
    "\\b와 \\s의 차이"
   ]
  },
  {
   "cell_type": "code",
   "execution_count": 6,
   "id": "b8a4511b",
   "metadata": {},
   "outputs": [
    {
     "name": "stdout",
     "output_type": "stream",
     "text": [
      "<re.Match object; span=(4, 7), match='abc'>\n",
      "<re.Match object; span=(4, 8), match='abc '>\n"
     ]
    }
   ],
   "source": [
    "import re\n",
    "\n",
    "#공백을 포함하지 않고 매치 결과를 반환\n",
    "m = re.search(r'[a-zA-Z]\\w*\\b', '123 abc 123')\n",
    "print(m)\n",
    "\n",
    "n = re.search(r'[a-zA-Z]\\w*\\s', '123 abc 123')\n",
    "print(n)"
   ]
  },
  {
   "cell_type": "markdown",
   "id": "6cecd3c7",
   "metadata": {},
   "source": [
    "## \\\n",
    "- 정규표현식에서 사용하는 문자 그대로 표현하려면 앞에 \\를 붙임"
   ]
  },
  {
   "cell_type": "code",
   "execution_count": 57,
   "id": "f27324d9",
   "metadata": {},
   "outputs": [
    {
     "name": "stdout",
     "output_type": "stream",
     "text": [
      "<re.Match object; span=(4, 9), match='안녕하세요'>\n"
     ]
    }
   ],
   "source": [
    "m = re.search('안녕하세요?', '여러분 안녕하세요?')\n",
    "print(m)\n",
    "#정규 표현식에서는 '?'가 있거나 없거나로 해석됨(메타문자)"
   ]
  },
  {
   "cell_type": "code",
   "execution_count": 58,
   "id": "1126b04d",
   "metadata": {
    "scrolled": true
   },
   "outputs": [
    {
     "name": "stdout",
     "output_type": "stream",
     "text": [
      "<re.Match object; span=(4, 10), match='안녕하세요?'>\n"
     ]
    }
   ],
   "source": [
    "m = re.search('안녕하세요\\?', '여러분 안녕하세요?')\n",
    "print(m)"
   ]
  },
  {
   "cell_type": "markdown",
   "id": "805ea835",
   "metadata": {},
   "source": [
    "# 그룹핑"
   ]
  },
  {
   "cell_type": "code",
   "execution_count": 70,
   "id": "3f8a82a9",
   "metadata": {},
   "outputs": [
    {
     "name": "stdout",
     "output_type": "stream",
     "text": [
      "<re.Match object; span=(0, 9), match='ABCABCABC'>\n",
      "ABCABCABC\n",
      "ABC\n"
     ]
    }
   ],
   "source": [
    "import re\n",
    "\n",
    "p = re.compile('(ABC)+')\n",
    "m = p.search('ABCABCABC OK?')\n",
    "print(m)\n",
    "print(m.group(0)) #일치된 전체 문자열 반환\n",
    "print(m.group(1))"
   ]
  },
  {
   "cell_type": "code",
   "execution_count": 74,
   "id": "d00ec627",
   "metadata": {},
   "outputs": [
    {
     "name": "stdout",
     "output_type": "stream",
     "text": [
      "park 010-1234-5678\n",
      "park\n",
      "010-1234-5678\n"
     ]
    }
   ],
   "source": [
    "p = re.compile('(\\w+)\\s+(\\d+[-]\\d+[-]\\d+)')\n",
    "m = p.search('park 010-1234-5678')\n",
    "print(m.group())\n",
    "print(m.group(1))\n",
    "print(m.group(2))"
   ]
  },
  {
   "cell_type": "code",
   "execution_count": 2,
   "id": "9085e299",
   "metadata": {
    "scrolled": true
   },
   "outputs": [
    {
     "name": "stdout",
     "output_type": "stream",
     "text": [
      "<re.Match object; span=(0, 18), match='park 010-1234-5678'>\n",
      "park 010-1234-5678\n",
      "park\n",
      "010-1234-5678\n",
      "010\n"
     ]
    }
   ],
   "source": [
    "# 그룹이 중첩된 경우에는 바깥쪽부터 시작하여 안쪽으로 들어갈수록\n",
    "# 인덱스가 증가한다.\n",
    "p = re.compile('(\\w+)\\s+((\\d+)[-]\\d+[-]\\d+)')\n",
    "m = p.search('park 010-1234-5678')\n",
    "print(m)\n",
    "print(m.group())\n",
    "print(m.group(1))\n",
    "print(m.group(2))\n",
    "print(m.group(3))"
   ]
  },
  {
   "cell_type": "markdown",
   "id": "37381f1d",
   "metadata": {},
   "source": [
    "### \\번호를 이용한 그룹 재참조"
   ]
  },
  {
   "cell_type": "code",
   "execution_count": 11,
   "id": "9c2816eb",
   "metadata": {},
   "outputs": [
    {
     "data": {
      "text/plain": [
       "'abab'"
      ]
     },
     "execution_count": 11,
     "metadata": {},
     "output_type": "execute_result"
    }
   ],
   "source": [
    "k = re.match(r'(a)(b)\\1\\2', 'abab')\n",
    "k.group()"
   ]
  },
  {
   "cell_type": "code",
   "execution_count": 79,
   "id": "df90e66f",
   "metadata": {
    "scrolled": true
   },
   "outputs": [
    {
     "data": {
      "text/plain": [
       "'the the'"
      ]
     },
     "execution_count": 79,
     "metadata": {},
     "output_type": "execute_result"
    }
   ],
   "source": [
    "# 2개의 동일한 단어를 연속적으로 사용해야 일치\n",
    "p = re.compile(r'(\\b\\w+)\\s+\\1')\n",
    "#\\b ==> 공백으로 구분된 단어를 찾는 것\n",
    "#\\s ==> 공백이 있는지 찾음\n",
    "p.search(\"Paris in the the spring\").group()"
   ]
  },
  {
   "cell_type": "code",
   "execution_count": 83,
   "id": "f974b801",
   "metadata": {
    "scrolled": true
   },
   "outputs": [
    {
     "name": "stdout",
     "output_type": "stream",
     "text": [
      "park\n",
      "010-1234-5678\n",
      "010\n"
     ]
    }
   ],
   "source": [
    "p = re.compile('(?P<name>\\w+)\\s+(?P<phone_number>(?P<region_number>\\d+)[-]\\d+[-]\\d+)')\n",
    "m = p.search('park 010-1234-5678')\n",
    "print(m.group('name'))\n",
    "print(m.group('phone_number'))\n",
    "print(m.group('region_number'))"
   ]
  },
  {
   "cell_type": "markdown",
   "id": "01cbafbf",
   "metadata": {},
   "source": [
    "# 전방탐색 / 후방탐색 (조건부 탐색)"
   ]
  },
  {
   "cell_type": "markdown",
   "id": "159f8780",
   "metadata": {},
   "source": [
    "## 긍정 전방 탐색"
   ]
  },
  {
   "cell_type": "code",
   "execution_count": 84,
   "id": "3eb12ac5",
   "metadata": {},
   "outputs": [
    {
     "name": "stdout",
     "output_type": "stream",
     "text": [
      "http\n"
     ]
    }
   ],
   "source": [
    "import re\n",
    "\n",
    "p = re.compile('.+(?=:)')\n",
    "m = p.search('http://www.naver.com')\n",
    "print(m.group())"
   ]
  },
  {
   "cell_type": "markdown",
   "id": "5e57aeee",
   "metadata": {},
   "source": [
    "## 부정 전방 탐색"
   ]
  },
  {
   "cell_type": "code",
   "execution_count": 89,
   "id": "70f13872",
   "metadata": {
    "scrolled": true
   },
   "outputs": [
    {
     "name": "stdout",
     "output_type": "stream",
     "text": [
      "python.exe\n",
      "sysinfo.cf\n"
     ]
    }
   ],
   "source": [
    "import re\n",
    "\n",
    "#파일 이름의 확장 중 bat 파일만 제외하고 추출하기\n",
    "file_names = ['autoexec.bat', 'python.exe', 'sysinfo.cf']\n",
    "p = re.compile('.+[.](?!bat).+')\n",
    "for file in file_names:\n",
    "    m = p.search(file)\n",
    "    if m : print(m.group())"
   ]
  },
  {
   "cell_type": "markdown",
   "id": "80e5e3f6",
   "metadata": {},
   "source": [
    "## 후방 탐색"
   ]
  },
  {
   "cell_type": "code",
   "execution_count": 87,
   "id": "e3a33ae4",
   "metadata": {
    "scrolled": true
   },
   "outputs": [
    {
     "name": "stdout",
     "output_type": "stream",
     "text": [
      "23.45\n"
     ]
    }
   ],
   "source": [
    "import re\n",
    "\n",
    "p = re.compile('(?<=\\$)\\d+[.]\\d+')\n",
    "m = p.search('ABC01: $23.45')\n",
    "print(m.group())\n"
   ]
  },
  {
   "cell_type": "markdown",
   "id": "b93359e1",
   "metadata": {},
   "source": [
    "## 부정 후방 탐색"
   ]
  },
  {
   "cell_type": "markdown",
   "id": "b6a4cb1d",
   "metadata": {},
   "source": [
    "# 문자열 바꾸기"
   ]
  },
  {
   "cell_type": "code",
   "execution_count": 14,
   "id": "de46fe76",
   "metadata": {},
   "outputs": [
    {
     "name": "stdout",
     "output_type": "stream",
     "text": [
      "color socks and red shoes\n",
      "color socks and color shoes\n",
      "color socks and red shoes\n"
     ]
    }
   ],
   "source": [
    "data = 'blue socks and red shoes'\n",
    "p = re.compile('blue|white|red')\n",
    "print(p.sub('color','blue socks and red shoes', count = 1))\n",
    "print(p.sub('color','blue socks and red shoes'))\n",
    "\n",
    "print(p.sub('color',data,count =1))"
   ]
  },
  {
   "cell_type": "markdown",
   "id": "16e3b71b",
   "metadata": {},
   "source": [
    "# 한글 찾기 or 한글 제거"
   ]
  },
  {
   "cell_type": "code",
   "execution_count": 17,
   "id": "ccef2afa",
   "metadata": {},
   "outputs": [
    {
     "name": "stdout",
     "output_type": "stream",
     "text": [
      "['한글이에요', '안녕하세요']\n",
      "한글이에요\n",
      "안녕하세요\n"
     ]
    }
   ],
   "source": [
    "s = '한글이에요. good morning. 안녕하세요'\n",
    "m = re.findall('[ㄱ-힣]+',s)\n",
    "print(m)\n",
    "\n",
    "for i in m:\n",
    "    print(i)"
   ]
  },
  {
   "cell_type": "code",
   "execution_count": 94,
   "id": "13e604ab",
   "metadata": {},
   "outputs": [
    {
     "name": "stdout",
     "output_type": "stream",
     "text": [
      "['good', 'morning']\n"
     ]
    }
   ],
   "source": [
    "s = '한글이에요. good morning. 안녕하세요'\n",
    "#m = re.findall('[^ㄱ-힣]+',s)\n",
    "m = re.findall('[^.\\sㄱ-힣]+',s) #. , 공백, ㄱ-힣 (한글) 제거\n",
    "\n",
    "print(m)"
   ]
  }
 ],
 "metadata": {
  "kernelspec": {
   "display_name": "Python 3 (ipykernel)",
   "language": "python",
   "name": "python3"
  },
  "language_info": {
   "codemirror_mode": {
    "name": "ipython",
    "version": 3
   },
   "file_extension": ".py",
   "mimetype": "text/x-python",
   "name": "python",
   "nbconvert_exporter": "python",
   "pygments_lexer": "ipython3",
   "version": "3.9.13"
  },
  "toc": {
   "base_numbering": 1,
   "nav_menu": {},
   "number_sections": true,
   "sideBar": true,
   "skip_h1_title": false,
   "title_cell": "Table of Contents",
   "title_sidebar": "Contents",
   "toc_cell": false,
   "toc_position": {
    "height": "calc(100% - 180px)",
    "left": "10px",
    "top": "150px",
    "width": "279.267px"
   },
   "toc_section_display": true,
   "toc_window_display": true
  }
 },
 "nbformat": 4,
 "nbformat_minor": 5
}
