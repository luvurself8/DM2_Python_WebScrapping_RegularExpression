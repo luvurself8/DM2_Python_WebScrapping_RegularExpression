{
 "cells": [
  {
   "cell_type": "markdown",
   "id": "7f6c9de0",
   "metadata": {},
   "source": [
    "# schedule 모듈"
   ]
  },
  {
   "cell_type": "code",
   "execution_count": 3,
   "id": "42817d29",
   "metadata": {},
   "outputs": [
    {
     "name": "stdout",
     "output_type": "stream",
     "text": [
      "Requirement already satisfied: schedule in c:\\users\\user\\anaconda3\\lib\\site-packages (1.1.0)\n"
     ]
    }
   ],
   "source": [
    "!pip install schedule"
   ]
  },
  {
   "cell_type": "markdown",
   "id": "41db954b",
   "metadata": {},
   "source": [
    "# schedule 모듈 활용\n",
    "- while 반복문을 활용하여 꾸준히 스케줄을 유지\n",
    "- 특정 조건에 만족하는 스케줄이 있을 때마다 해당 함수 실행\n",
    "    - schedule.every(20).minute.do(job) : 매 20분마다 job함수를 실행시킴\n",
    "    - schedule.every().hour.do(job) : 매 시간 실행\n",
    "    - schedule.every(3).hours.do(job) : 매 시간 실행\n",
    "    - schedule.every().day.at('10:30').do(job) : 매일 10시 30분에 실행\n",
    "    - schedule.every().monday.do(job): 매주 월요일 실행\n",
    "    - schedule.every().wednesday.at('13:15').do(job) : 매주 수요일 13시 15분에 실행"
   ]
  },
  {
   "cell_type": "code",
   "execution_count": 1,
   "id": "1f0e90d4",
   "metadata": {},
   "outputs": [
    {
     "name": "stdout",
     "output_type": "stream",
     "text": [
      "1675217809.6885097\n",
      "1675217819.6887503\n",
      "1675217829.6893609\n",
      "1675217839.689893\n",
      "1675217849.7048442\n",
      "1675217859.7061846\n",
      "1675217869.7207723\n"
     ]
    },
    {
     "ename": "KeyboardInterrupt",
     "evalue": "",
     "output_type": "error",
     "traceback": [
      "\u001b[1;31m---------------------------------------------------------------------------\u001b[0m",
      "\u001b[1;31mKeyboardInterrupt\u001b[0m                         Traceback (most recent call last)",
      "\u001b[1;32m~\\AppData\\Local\\Temp\\ipykernel_20368\\2251110430.py\u001b[0m in \u001b[0;36m<module>\u001b[1;34m\u001b[0m\n\u001b[0;32m     12\u001b[0m \u001b[1;33m\u001b[0m\u001b[0m\n\u001b[0;32m     13\u001b[0m \u001b[1;32mwhile\u001b[0m \u001b[1;32mTrue\u001b[0m\u001b[1;33m:\u001b[0m\u001b[1;33m\u001b[0m\u001b[1;33m\u001b[0m\u001b[0m\n\u001b[1;32m---> 14\u001b[1;33m     \u001b[0mschedule\u001b[0m\u001b[1;33m.\u001b[0m\u001b[0mrun_pending\u001b[0m\u001b[1;33m(\u001b[0m\u001b[1;33m)\u001b[0m \u001b[1;31m# job함수의 실행을 요청\u001b[0m\u001b[1;33m\u001b[0m\u001b[1;33m\u001b[0m\u001b[0m\n\u001b[0m",
      "\u001b[1;32m~\\anaconda3\\lib\\site-packages\\schedule\\__init__.py\u001b[0m in \u001b[0;36mrun_pending\u001b[1;34m()\u001b[0m\n\u001b[0;32m    778\u001b[0m     \u001b[1;33m:\u001b[0m\u001b[0mdata\u001b[0m\u001b[1;33m:\u001b[0m\u001b[0;31m`\u001b[0m\u001b[0mdefault\u001b[0m \u001b[0mscheduler\u001b[0m \u001b[0minstance\u001b[0m \u001b[1;33m<\u001b[0m\u001b[0mdefault_scheduler\u001b[0m\u001b[1;33m>\u001b[0m\u001b[0;31m`\u001b[0m\u001b[1;33m.\u001b[0m\u001b[1;33m\u001b[0m\u001b[1;33m\u001b[0m\u001b[0m\n\u001b[0;32m    779\u001b[0m     \"\"\"\n\u001b[1;32m--> 780\u001b[1;33m     \u001b[0mdefault_scheduler\u001b[0m\u001b[1;33m.\u001b[0m\u001b[0mrun_pending\u001b[0m\u001b[1;33m(\u001b[0m\u001b[1;33m)\u001b[0m\u001b[1;33m\u001b[0m\u001b[1;33m\u001b[0m\u001b[0m\n\u001b[0m\u001b[0;32m    781\u001b[0m \u001b[1;33m\u001b[0m\u001b[0m\n\u001b[0;32m    782\u001b[0m \u001b[1;33m\u001b[0m\u001b[0m\n",
      "\u001b[1;32m~\\anaconda3\\lib\\site-packages\\schedule\\__init__.py\u001b[0m in \u001b[0;36mrun_pending\u001b[1;34m(self)\u001b[0m\n\u001b[0;32m     97\u001b[0m         \"\"\"\n\u001b[0;32m     98\u001b[0m         \u001b[0mrunnable_jobs\u001b[0m \u001b[1;33m=\u001b[0m \u001b[1;33m(\u001b[0m\u001b[0mjob\u001b[0m \u001b[1;32mfor\u001b[0m \u001b[0mjob\u001b[0m \u001b[1;32min\u001b[0m \u001b[0mself\u001b[0m\u001b[1;33m.\u001b[0m\u001b[0mjobs\u001b[0m \u001b[1;32mif\u001b[0m \u001b[0mjob\u001b[0m\u001b[1;33m.\u001b[0m\u001b[0mshould_run\u001b[0m\u001b[1;33m)\u001b[0m\u001b[1;33m\u001b[0m\u001b[1;33m\u001b[0m\u001b[0m\n\u001b[1;32m---> 99\u001b[1;33m         \u001b[1;32mfor\u001b[0m \u001b[0mjob\u001b[0m \u001b[1;32min\u001b[0m \u001b[0msorted\u001b[0m\u001b[1;33m(\u001b[0m\u001b[0mrunnable_jobs\u001b[0m\u001b[1;33m)\u001b[0m\u001b[1;33m:\u001b[0m\u001b[1;33m\u001b[0m\u001b[1;33m\u001b[0m\u001b[0m\n\u001b[0m\u001b[0;32m    100\u001b[0m             \u001b[0mself\u001b[0m\u001b[1;33m.\u001b[0m\u001b[0m_run_job\u001b[0m\u001b[1;33m(\u001b[0m\u001b[0mjob\u001b[0m\u001b[1;33m)\u001b[0m\u001b[1;33m\u001b[0m\u001b[1;33m\u001b[0m\u001b[0m\n\u001b[0;32m    101\u001b[0m \u001b[1;33m\u001b[0m\u001b[0m\n",
      "\u001b[1;31mKeyboardInterrupt\u001b[0m: "
     ]
    }
   ],
   "source": [
    "import schedule\n",
    "import time\n",
    "\n",
    "# 스케줄에 의해 실행되어야 할 코드를 작성\n",
    "\n",
    "def job():\n",
    "    print(time.time())\n",
    "    \n",
    "    \n",
    "#매 10초마다 job 함수 실행\n",
    "schedule.every(10).seconds.do(job)\n",
    "\n",
    "while True:\n",
    "    schedule.run_pending() # job함수의 실행을 요청"
   ]
  },
  {
   "cell_type": "markdown",
   "id": "97537e8a",
   "metadata": {},
   "source": [
    "# 시간별 스케줄 잡 실행하기"
   ]
  },
  {
   "cell_type": "code",
   "execution_count": null,
   "id": "09cf5e6e",
   "metadata": {},
   "outputs": [],
   "source": [
    "import schedule\n",
    "import time\n",
    "\n",
    "def job():\n",
    "    print(\"I'm working...\")\n",
    "    \n",
    "schedule.every(3).seconds.do(job)\n",
    "schedule.every(3).minutes.do(job)\n",
    "schedule.every(3).hours.do(job)\n",
    "schedule.every(3).days.do(job)\n",
    "schedule.every(3).weeks.do(job)\n",
    "\n",
    "#매분 23초마다 실행\n",
    "schedule.every().minute.at(':23').do(job)\n",
    "\n",
    "#매시 42분마다 실행\n",
    "schedule.every().hour.at(':42').do(job)\n",
    "\n",
    "#매 5시간 째 20분 30초마다 job함수 실행\n",
    "#현재 시간이 2시이면 첫 실행은 06시20분30초에 실행\n",
    "schedule.every(5).hours.at('20:30').do(job)\n",
    "\n",
    "#매일 지정된 시간에 job 함수를 실행\n",
    "schedule.every().day.at('10:30:42').do(job)\n",
    "\n",
    "#지정된 요일 시간에 job 함수를 실행\n",
    "schedule.every().wednesday.at('10:30:42').do(job)\n",
    "\n",
    "while True:\n",
    "    schedule.run_pending()\n",
    "    "
   ]
  },
  {
   "cell_type": "markdown",
   "id": "8fdd345f",
   "metadata": {},
   "source": [
    "### 매월 특정일 특정 시간에 job 실행"
   ]
  },
  {
   "cell_type": "code",
   "execution_count": null,
   "id": "a11d5d0d",
   "metadata": {},
   "outputs": [],
   "source": [
    "import schedule\n",
    "from datetime import date\n",
    "def job():\n",
    "    if date.today().day != 1:\n",
    "        return\n",
    "    #실제 job 실행 코드\n",
    "    \n",
    "    \n",
    "    \n",
    "schedule.every().day.at('02:00').do(job)\n",
    "#매일 두시에 실행\n",
    "\n",
    "#매월 1일 두시에만 실행 (함수에 적용)\n",
    "\n",
    "while True:\n",
    "    schedule.run_pending()\n",
    "\n"
   ]
  },
  {
   "cell_type": "markdown",
   "id": "8028b3bb",
   "metadata": {},
   "source": [
    "# job 함수에 인수 값 전달"
   ]
  },
  {
   "cell_type": "code",
   "execution_count": 6,
   "id": "9debb3a6",
   "metadata": {},
   "outputs": [
    {
     "name": "stdout",
     "output_type": "stream",
     "text": [
      "Hello Alice\n",
      "Hello Alice\n",
      "Hello Alice\n",
      "스케줄-1 실행\n",
      "매 2초마다 스케줄-2 실행\n",
      "스케줄-1 실행\n",
      "매 2초마다 스케줄-2 실행\n",
      "스케줄-1 실행\n",
      "스케줄-1 실행\n",
      "Hello Alice\n",
      "Hello Alice\n",
      "Hello Alice\n",
      "Hello Alice\n",
      "매 2초마다 스케줄-2 실행\n",
      "매 2초마다 스케줄-2 실행\n",
      "스케줄-1 실행\n",
      "스케줄-1 실행\n",
      "스케줄-1 실행\n",
      "스케줄-1 실행\n",
      "Hello Alice\n",
      "매 2초마다 스케줄-2 실행\n",
      "Hello Alice\n",
      "Hello Alice\n",
      "Hello Alice\n",
      "매 2초마다 스케줄-2 실행\n",
      "스케줄-1 실행\n",
      "스케줄-1 실행\n",
      "스케줄-1 실행\n",
      "스케줄-1 실행\n",
      "매 2초마다 스케줄-2 실행\n",
      "Hello Alice\n",
      "Hello Alice\n",
      "Hello Alice\n",
      "Hello Alice\n",
      "매 2초마다 스케줄-2 실행\n",
      "스케줄-1 실행\n",
      "스케줄-1 실행\n",
      "스케줄-1 실행\n",
      "스케줄-1 실행\n",
      "매 2초마다 스케줄-2 실행\n",
      "매 2초마다 스케줄-2 실행\n",
      "Hello Alice\n",
      "Hello Alice\n",
      "Hello Alice\n",
      "Hello Alice\n",
      "스케줄-1 실행\n",
      "스케줄-1 실행\n"
     ]
    },
    {
     "ename": "KeyboardInterrupt",
     "evalue": "",
     "output_type": "error",
     "traceback": [
      "\u001b[1;31m---------------------------------------------------------------------------\u001b[0m",
      "\u001b[1;31mKeyboardInterrupt\u001b[0m                         Traceback (most recent call last)",
      "\u001b[1;32m~\\AppData\\Local\\Temp\\ipykernel_14044\\2012616633.py\u001b[0m in \u001b[0;36m<module>\u001b[1;34m\u001b[0m\n\u001b[0;32m      7\u001b[0m \u001b[1;33m\u001b[0m\u001b[0m\n\u001b[0;32m      8\u001b[0m \u001b[1;32mwhile\u001b[0m \u001b[1;32mTrue\u001b[0m\u001b[1;33m:\u001b[0m\u001b[1;33m\u001b[0m\u001b[1;33m\u001b[0m\u001b[0m\n\u001b[1;32m----> 9\u001b[1;33m     \u001b[0mschedule\u001b[0m\u001b[1;33m.\u001b[0m\u001b[0mrun_pending\u001b[0m\u001b[1;33m(\u001b[0m\u001b[1;33m)\u001b[0m\u001b[1;33m\u001b[0m\u001b[1;33m\u001b[0m\u001b[0m\n\u001b[0m",
      "\u001b[1;32m~\\anaconda3\\lib\\site-packages\\schedule\\__init__.py\u001b[0m in \u001b[0;36mrun_pending\u001b[1;34m()\u001b[0m\n\u001b[0;32m    778\u001b[0m     \u001b[1;33m:\u001b[0m\u001b[0mdata\u001b[0m\u001b[1;33m:\u001b[0m\u001b[0;31m`\u001b[0m\u001b[0mdefault\u001b[0m \u001b[0mscheduler\u001b[0m \u001b[0minstance\u001b[0m \u001b[1;33m<\u001b[0m\u001b[0mdefault_scheduler\u001b[0m\u001b[1;33m>\u001b[0m\u001b[0;31m`\u001b[0m\u001b[1;33m.\u001b[0m\u001b[1;33m\u001b[0m\u001b[1;33m\u001b[0m\u001b[0m\n\u001b[0;32m    779\u001b[0m     \"\"\"\n\u001b[1;32m--> 780\u001b[1;33m     \u001b[0mdefault_scheduler\u001b[0m\u001b[1;33m.\u001b[0m\u001b[0mrun_pending\u001b[0m\u001b[1;33m(\u001b[0m\u001b[1;33m)\u001b[0m\u001b[1;33m\u001b[0m\u001b[1;33m\u001b[0m\u001b[0m\n\u001b[0m\u001b[0;32m    781\u001b[0m \u001b[1;33m\u001b[0m\u001b[0m\n\u001b[0;32m    782\u001b[0m \u001b[1;33m\u001b[0m\u001b[0m\n",
      "\u001b[1;32m~\\anaconda3\\lib\\site-packages\\schedule\\__init__.py\u001b[0m in \u001b[0;36mrun_pending\u001b[1;34m(self)\u001b[0m\n\u001b[0;32m     97\u001b[0m         \"\"\"\n\u001b[0;32m     98\u001b[0m         \u001b[0mrunnable_jobs\u001b[0m \u001b[1;33m=\u001b[0m \u001b[1;33m(\u001b[0m\u001b[0mjob\u001b[0m \u001b[1;32mfor\u001b[0m \u001b[0mjob\u001b[0m \u001b[1;32min\u001b[0m \u001b[0mself\u001b[0m\u001b[1;33m.\u001b[0m\u001b[0mjobs\u001b[0m \u001b[1;32mif\u001b[0m \u001b[0mjob\u001b[0m\u001b[1;33m.\u001b[0m\u001b[0mshould_run\u001b[0m\u001b[1;33m)\u001b[0m\u001b[1;33m\u001b[0m\u001b[1;33m\u001b[0m\u001b[0m\n\u001b[1;32m---> 99\u001b[1;33m         \u001b[1;32mfor\u001b[0m \u001b[0mjob\u001b[0m \u001b[1;32min\u001b[0m \u001b[0msorted\u001b[0m\u001b[1;33m(\u001b[0m\u001b[0mrunnable_jobs\u001b[0m\u001b[1;33m)\u001b[0m\u001b[1;33m:\u001b[0m\u001b[1;33m\u001b[0m\u001b[1;33m\u001b[0m\u001b[0m\n\u001b[0m\u001b[0;32m    100\u001b[0m             \u001b[0mself\u001b[0m\u001b[1;33m.\u001b[0m\u001b[0m_run_job\u001b[0m\u001b[1;33m(\u001b[0m\u001b[0mjob\u001b[0m\u001b[1;33m)\u001b[0m\u001b[1;33m\u001b[0m\u001b[1;33m\u001b[0m\u001b[0m\n\u001b[0;32m    101\u001b[0m \u001b[1;33m\u001b[0m\u001b[0m\n",
      "\u001b[1;32m~\\anaconda3\\lib\\site-packages\\schedule\\__init__.py\u001b[0m in \u001b[0;36m<genexpr>\u001b[1;34m(.0)\u001b[0m\n\u001b[0;32m     96\u001b[0m         \u001b[0mbetween\u001b[0m \u001b[0mbut\u001b[0m \u001b[0monly\u001b[0m \u001b[0monce\u001b[0m\u001b[1;33m.\u001b[0m\u001b[1;33m\u001b[0m\u001b[1;33m\u001b[0m\u001b[0m\n\u001b[0;32m     97\u001b[0m         \"\"\"\n\u001b[1;32m---> 98\u001b[1;33m         \u001b[0mrunnable_jobs\u001b[0m \u001b[1;33m=\u001b[0m \u001b[1;33m(\u001b[0m\u001b[0mjob\u001b[0m \u001b[1;32mfor\u001b[0m \u001b[0mjob\u001b[0m \u001b[1;32min\u001b[0m \u001b[0mself\u001b[0m\u001b[1;33m.\u001b[0m\u001b[0mjobs\u001b[0m \u001b[1;32mif\u001b[0m \u001b[0mjob\u001b[0m\u001b[1;33m.\u001b[0m\u001b[0mshould_run\u001b[0m\u001b[1;33m)\u001b[0m\u001b[1;33m\u001b[0m\u001b[1;33m\u001b[0m\u001b[0m\n\u001b[0m\u001b[0;32m     99\u001b[0m         \u001b[1;32mfor\u001b[0m \u001b[0mjob\u001b[0m \u001b[1;32min\u001b[0m \u001b[0msorted\u001b[0m\u001b[1;33m(\u001b[0m\u001b[0mrunnable_jobs\u001b[0m\u001b[1;33m)\u001b[0m\u001b[1;33m:\u001b[0m\u001b[1;33m\u001b[0m\u001b[1;33m\u001b[0m\u001b[0m\n\u001b[0;32m    100\u001b[0m             \u001b[0mself\u001b[0m\u001b[1;33m.\u001b[0m\u001b[0m_run_job\u001b[0m\u001b[1;33m(\u001b[0m\u001b[0mjob\u001b[0m\u001b[1;33m)\u001b[0m\u001b[1;33m\u001b[0m\u001b[1;33m\u001b[0m\u001b[0m\n",
      "\u001b[1;32m~\\anaconda3\\lib\\site-packages\\schedule\\__init__.py\u001b[0m in \u001b[0;36mshould_run\u001b[1;34m(self)\u001b[0m\n\u001b[0;32m    640\u001b[0m         \"\"\"\n\u001b[0;32m    641\u001b[0m         \u001b[1;32massert\u001b[0m \u001b[0mself\u001b[0m\u001b[1;33m.\u001b[0m\u001b[0mnext_run\u001b[0m \u001b[1;32mis\u001b[0m \u001b[1;32mnot\u001b[0m \u001b[1;32mNone\u001b[0m\u001b[1;33m,\u001b[0m \u001b[1;34m\"must run _schedule_next_run before\"\u001b[0m\u001b[1;33m\u001b[0m\u001b[1;33m\u001b[0m\u001b[0m\n\u001b[1;32m--> 642\u001b[1;33m         \u001b[1;32mreturn\u001b[0m \u001b[0mdatetime\u001b[0m\u001b[1;33m.\u001b[0m\u001b[0mdatetime\u001b[0m\u001b[1;33m.\u001b[0m\u001b[0mnow\u001b[0m\u001b[1;33m(\u001b[0m\u001b[1;33m)\u001b[0m \u001b[1;33m>=\u001b[0m \u001b[0mself\u001b[0m\u001b[1;33m.\u001b[0m\u001b[0mnext_run\u001b[0m\u001b[1;33m\u001b[0m\u001b[1;33m\u001b[0m\u001b[0m\n\u001b[0m\u001b[0;32m    643\u001b[0m \u001b[1;33m\u001b[0m\u001b[0m\n\u001b[0;32m    644\u001b[0m     \u001b[1;32mdef\u001b[0m \u001b[0mrun\u001b[0m\u001b[1;33m(\u001b[0m\u001b[0mself\u001b[0m\u001b[1;33m)\u001b[0m\u001b[1;33m:\u001b[0m\u001b[1;33m\u001b[0m\u001b[1;33m\u001b[0m\u001b[0m\n",
      "\u001b[1;31mKeyboardInterrupt\u001b[0m: "
     ]
    }
   ],
   "source": [
    "import schedule\n",
    "\n",
    "def greet(name):\n",
    "    print('Hello', name)\n",
    "    \n",
    "schedule.every(2).seconds.do(greet, name='Alice')\n",
    "\n",
    "while True:\n",
    "    schedule.run_pending()"
   ]
  },
  {
   "cell_type": "markdown",
   "id": "34c0c74a",
   "metadata": {},
   "source": [
    "# job 실행 취소하기"
   ]
  },
  {
   "cell_type": "code",
   "execution_count": 1,
   "id": "a6d9bdb4",
   "metadata": {},
   "outputs": [
    {
     "name": "stdout",
     "output_type": "stream",
     "text": [
      "스케줄-1 실행\n",
      "매 2초마다 스케줄-2 실행\n",
      "스케줄-1 실행\n",
      "스케줄-1 실행\n",
      "매 2초마다 스케줄-2 실행\n",
      "스케줄-1 실행\n",
      "스케줄-1 실행\n",
      "매 2초마다 스케줄-2 실행\n",
      "매 2초마다 스케줄-2 실행\n",
      "매 2초마다 스케줄-2 실행\n",
      "매 2초마다 스케줄-2 실행\n",
      "매 2초마다 스케줄-2 실행\n"
     ]
    },
    {
     "ename": "KeyboardInterrupt",
     "evalue": "",
     "output_type": "error",
     "traceback": [
      "\u001b[1;31m---------------------------------------------------------------------------\u001b[0m",
      "\u001b[1;31mKeyboardInterrupt\u001b[0m                         Traceback (most recent call last)",
      "\u001b[1;32m~\\AppData\\Local\\Temp\\ipykernel_688\\921489586.py\u001b[0m in \u001b[0;36m<module>\u001b[1;34m\u001b[0m\n\u001b[0;32m     15\u001b[0m \u001b[1;32mwhile\u001b[0m \u001b[1;32mTrue\u001b[0m\u001b[1;33m:\u001b[0m\u001b[1;33m\u001b[0m\u001b[1;33m\u001b[0m\u001b[0m\n\u001b[0;32m     16\u001b[0m     \u001b[0mschedule\u001b[0m\u001b[1;33m.\u001b[0m\u001b[0mrun_pending\u001b[0m\u001b[1;33m(\u001b[0m\u001b[1;33m)\u001b[0m\u001b[1;33m\u001b[0m\u001b[1;33m\u001b[0m\u001b[0m\n\u001b[1;32m---> 17\u001b[1;33m     \u001b[0mtime\u001b[0m\u001b[1;33m.\u001b[0m\u001b[0msleep\u001b[0m\u001b[1;33m(\u001b[0m\u001b[1;36m1\u001b[0m\u001b[1;33m)\u001b[0m\u001b[1;33m\u001b[0m\u001b[1;33m\u001b[0m\u001b[0m\n\u001b[0m\u001b[0;32m     18\u001b[0m \u001b[1;33m\u001b[0m\u001b[0m\n\u001b[0;32m     19\u001b[0m     \u001b[0mcount\u001b[0m \u001b[1;33m+=\u001b[0m \u001b[1;36m1\u001b[0m\u001b[1;33m\u001b[0m\u001b[1;33m\u001b[0m\u001b[0m\n",
      "\u001b[1;31mKeyboardInterrupt\u001b[0m: "
     ]
    }
   ],
   "source": [
    "import schedule\n",
    "import time\n",
    "\n",
    "def message1():\n",
    "    print('스케줄-1 실행')\n",
    "    \n",
    "def message2(text):\n",
    "    print(text, '스케줄-2 실행')\n",
    "\n",
    "count = 0\n",
    "\n",
    "job1 = schedule.every().second.do(message1)\n",
    "job2 = schedule.every(2).seconds.do(message2, text = '매 2초마다')\n",
    "\n",
    "while True:\n",
    "    schedule.run_pending()\n",
    "    time.sleep(1)\n",
    "    \n",
    "    count += 1\n",
    "    \n",
    "    if count > 5:\n",
    "        schedule.cancel_job(job1)"
   ]
  },
  {
   "cell_type": "markdown",
   "id": "dd5e97b8",
   "metadata": {},
   "source": [
    "# 지정된 시간까지 job 실행"
   ]
  },
  {
   "cell_type": "code",
   "execution_count": null,
   "id": "eda11ca6",
   "metadata": {},
   "outputs": [],
   "source": [
    "import schedule\n",
    "from datetime import datetime, time\n",
    "\n",
    "def job():\n",
    "    print(\"I'm working....\")\n",
    "    \n",
    "#오늘 18시 30분까지 job 실행\n",
    "schedule.every(1).hours.until('18:30').do(job)\n",
    "\n",
    "schedule.every(1).hours.until('2030-01-01 18:30').do(job)\n",
    "\n",
    "schedule.every(1).hours.until(datetime(2030,1,1,18,30,20)).do(job)"
   ]
  }
 ],
 "metadata": {
  "kernelspec": {
   "display_name": "Python 3 (ipykernel)",
   "language": "python",
   "name": "python3"
  },
  "language_info": {
   "codemirror_mode": {
    "name": "ipython",
    "version": 3
   },
   "file_extension": ".py",
   "mimetype": "text/x-python",
   "name": "python",
   "nbconvert_exporter": "python",
   "pygments_lexer": "ipython3",
   "version": "3.9.13"
  },
  "toc": {
   "base_numbering": 1,
   "nav_menu": {},
   "number_sections": true,
   "sideBar": true,
   "skip_h1_title": false,
   "title_cell": "Table of Contents",
   "title_sidebar": "Contents",
   "toc_cell": false,
   "toc_position": {},
   "toc_section_display": true,
   "toc_window_display": false
  }
 },
 "nbformat": 4,
 "nbformat_minor": 5
}
